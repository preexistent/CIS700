{
  "nbformat": 4,
  "nbformat_minor": 0,
  "metadata": {
    "colab": {
      "name": "HW0.ipynb",
      "version": "0.3.2",
      "provenance": [],
      "collapsed_sections": [],
      "include_colab_link": true
    },
    "kernelspec": {
      "name": "python3",
      "display_name": "Python 3"
    },
    "accelerator": "GPU"
  },
  "cells": [
    {
      "cell_type": "markdown",
      "metadata": {
        "id": "view-in-github",
        "colab_type": "text"
      },
      "source": [
        "<a href=\"https://colab.research.google.com/github/preexistent/CIS700/blob/master/HW0.ipynb\" target=\"_parent\"><img src=\"https://colab.research.google.com/assets/colab-badge.svg\" alt=\"Open In Colab\"/></a>"
      ]
    },
    {
      "metadata": {
        "colab_type": "text",
        "id": "1pNTr-zzKyNM"
      },
      "cell_type": "markdown",
      "source": [
        "# Introduction and Getting Started (5 pts)"
      ]
    },
    {
      "metadata": {
        "colab_type": "text",
        "id": "OLiEVEN0NBhy"
      },
      "cell_type": "markdown",
      "source": [
        "Welcome to CIS 700-004: Deep Learning for Data Science! \n",
        "\n",
        "HW0 will serve as an introduction / setting up for many of the technologies we'll be using in the course. Additionally, there is a written component where you will review key concepts used in deep learning."
      ]
    },
    {
      "metadata": {
        "colab_type": "text",
        "id": "h9-qEdw6PAEM"
      },
      "cell_type": "markdown",
      "source": [
        "## Course Policies (0 pts)\n",
        "\n"
      ]
    },
    {
      "metadata": {
        "colab_type": "text",
        "id": "O4ZkJci-u2KY"
      },
      "cell_type": "markdown",
      "source": [
        "**Collaboration Policy**\n",
        "\n",
        "All of the homework assignments besides the final project are to be done **individually**. You may collaborate with others on a high level, however, all LaTeX and code must be done individually. Students who have been shown to be violating this policy will automatically receive a 0 for the assignment and be referred to the Office of Student Conduct. By submitting an assignment you agree that the work produced is your work and your work **only**.\n",
        "\n",
        "**Late Policy**\n",
        "\n",
        "This class will penalize late submission by 20% for each day past the submission deadline. There are no late days in this class.\n"
      ]
    },
    {
      "metadata": {
        "colab_type": "text",
        "id": "SpKQ69qYvpR8"
      },
      "cell_type": "markdown",
      "source": [
        "## Python Resources (0 pts)"
      ]
    },
    {
      "metadata": {
        "colab_type": "text",
        "id": "PI0teJdX5J4U"
      },
      "cell_type": "markdown",
      "source": [
        "For those that have not used Python before, we strongly recommend reading / completing a few tutorials on Python to get yourselves familiarized with the language. Here is a list of a few such resources:\n",
        "\n",
        "\n",
        "\n",
        "*   https://www.w3schools.com/python/python_intro.asp\n",
        "*   https://www.learnpython.org/\n",
        "*   https://www.udemy.com/pythonforbeginnersintro/\n",
        "\n",
        "\n"
      ]
    },
    {
      "metadata": {
        "colab_type": "text",
        "id": "KrOfSG4thyV5"
      },
      "cell_type": "markdown",
      "source": [
        "## Setting up Google Colab (0 pts)\n",
        "\n",
        "**Opening on Google Colab** (for those viewing this notebook remotely)\n",
        "\n",
        "Every homework assignment will be released on canvas as a jupyter notebook file. Although you can develop python notebooks locally, we will be expecting you to develop on Google Colab, which you can access on (https://colab.research.google.com). \n",
        "\n",
        "Once you have logged in, you'll be taken to a \"Hello, Colaboratory page\". To upload this notebook and view, simply click file->upload notebook and choose this notebook file.\n",
        "\n",
        "** Getting familiar with Google Colab / Jupyter **\n",
        "\n",
        "We highly recommend that you read the first section \"[Overview of Colaboratory](https://colab.research.google.com/notebooks/basic_features_overview.ipynb)\" if you aren't already familiar with Google Colab / Jupyter notebooks to get a synopsis of these technologies. For further reading on Jupyter notebooks, view the following resources:\n",
        "\n",
        "*   https://www.dataquest.io/blog/jupyter-notebook-tutorial/\n",
        "*   https://medium.com/codingthesmartway-com-blog/getting-started-with-jupyter-notebook-for-python-4e7082bd5d46 (skip the beginning on setting up Jupyter)\n",
        "\n",
        "To upload this notebook, simply click file->upload notebook and choose this python notebook file.\n",
        "\n",
        "**Version Control**\n",
        "\n",
        "Google Colab automatically provides version control (see file->revision history), however, this revision history tends to provide no more than a few hours of version control automatically. If you are using Google Colab solely for version control, we recommend that you hit file->save and pin revision (i.e. whenever you would normally commit in Github) every so often so that the version doesn't get deleted from the history.\n",
        "\n",
        "Alternatively, Google Colab provides Github support, so for those that are more familiar with this version control system we recommend following [this](https://colab.research.google.com/github/googlecolab/colabtools/blob/master/notebooks/colab-github-demo.ipynb#scrollTo=Rmai0dD30XzL) tutorial.\n",
        "\n",
        "\n",
        "\n"
      ]
    },
    {
      "metadata": {
        "colab_type": "text",
        "id": "vT8p_WKPoD95"
      },
      "cell_type": "markdown",
      "source": [
        "## Setting up the Assignment (5 pts)\n",
        "\n",
        "For all future homeworks, the Jupyter notebook file we provide will be very sparse, usually only with one line (as seen below) to clone the cis 700 repository which will follow this general structure (however, this may be subject to change):\n",
        "\n",
        "    CIS700-004/ \n",
        "        hw0/ \n",
        "           helper.py (helper methods if necessary)\n",
        "           dataset (for some assignments, not hw0)\n",
        "           writeup.pdf\n",
        "           template.tex (LaTeX template for writeup)\n",
        "        hw1/\n",
        "        ...\n",
        "\n",
        "\n"
      ]
    },
    {
      "metadata": {
        "colab_type": "code",
        "id": "VMLqKC6RKsfR",
        "outputId": "b099ac71-df89-49a0-a35a-63d164ff6aaa",
        "colab": {
          "base_uri": "https://localhost:8080/",
          "height": 119
        }
      },
      "cell_type": "code",
      "source": [
        "!git clone https://github.com/cis700/hw0-updated.git"
      ],
      "execution_count": 0,
      "outputs": [
        {
          "output_type": "stream",
          "text": [
            "Cloning into 'hw0-updated'...\n",
            "remote: Enumerating objects: 6, done.\u001b[K\n",
            "remote: Counting objects: 100% (6/6), done.\u001b[K\n",
            "remote: Compressing objects: 100% (5/5), done.\u001b[K\n",
            "remote: Total 6 (delta 0), reused 6 (delta 0), pack-reused 0\u001b[K\n",
            "Unpacking objects: 100% (6/6), done.\n"
          ],
          "name": "stdout"
        }
      ]
    },
    {
      "metadata": {
        "colab_type": "text",
        "id": "5_H71KUgrmsK"
      },
      "cell_type": "markdown",
      "source": [
        "Click \"files\" and \"refresh\", and you should see on the left the directory structure we specified above (without the dataset). As stated earlier, for future homeworks the writeup will contain most of the instructions for the assignment (rather than this notebook), but for now it contains a few theory problems.\n",
        "\n",
        "\n",
        "**Installing Dependencies**\n",
        "Besides cloning the repo, we will also include in the notebook a code snippet to download many of the packages required for the homework assignment. However, feel free to install other packages (for instance, using [pip](https://pip.pypa.io/en/stable/), which comes pre-installed in colab). Run the code snippet below to install matplotlib (don't worry if it says it's already satisfied)."
      ]
    },
    {
      "metadata": {
        "colab_type": "code",
        "id": "4QQNlrwT10sq",
        "outputId": "7feed1e6-5265-417d-89f5-5f3ffa1d671f",
        "colab": {
          "base_uri": "https://localhost:8080/",
          "height": 173
        }
      },
      "cell_type": "code",
      "source": [
        "!pip install matplotlib"
      ],
      "execution_count": 0,
      "outputs": [
        {
          "output_type": "stream",
          "text": [
            "Requirement already satisfied: matplotlib in /usr/local/lib/python3.6/dist-packages (3.0.2)\n",
            "Requirement already satisfied: pyparsing!=2.0.4,!=2.1.2,!=2.1.6,>=2.0.1 in /usr/local/lib/python3.6/dist-packages (from matplotlib) (2.3.1)\n",
            "Requirement already satisfied: python-dateutil>=2.1 in /usr/local/lib/python3.6/dist-packages (from matplotlib) (2.5.3)\n",
            "Requirement already satisfied: cycler>=0.10 in /usr/local/lib/python3.6/dist-packages (from matplotlib) (0.10.0)\n",
            "Requirement already satisfied: numpy>=1.10.0 in /usr/local/lib/python3.6/dist-packages (from matplotlib) (1.14.6)\n",
            "Requirement already satisfied: kiwisolver>=1.0.1 in /usr/local/lib/python3.6/dist-packages (from matplotlib) (1.0.1)\n",
            "Requirement already satisfied: six>=1.5 in /usr/local/lib/python3.6/dist-packages (from python-dateutil>=2.1->matplotlib) (1.11.0)\n",
            "Requirement already satisfied: setuptools in /usr/local/lib/python3.6/dist-packages (from kiwisolver>=1.0.1->matplotlib) (40.6.3)\n"
          ],
          "name": "stdout"
        }
      ]
    },
    {
      "metadata": {
        "colab_type": "text",
        "id": "OWHha4uv2W9R"
      },
      "cell_type": "markdown",
      "source": [
        "**Setting up the GPU **\n",
        "\n",
        "First, go to Runtime->Change Runtime Type, and change Hardware Accelerator to **GPU**. Doing so changes the runtime (think of it as connecting to a completely different instance now). Therefore, you have to re-install all previously installed packages, and all previous workspace variables have been deleted. Since at this point we haven't installed any new packages or created any new workspace variables, we haven't lost anything.\n",
        "\n",
        "Next, run the code snippet below."
      ]
    },
    {
      "metadata": {
        "colab_type": "code",
        "id": "u334PUMz2q4y",
        "outputId": "e61c0704-6dc7-4c73-b0e5-d8aa3ac0f1ee",
        "colab": {
          "base_uri": "https://localhost:8080/",
          "height": 34
        }
      },
      "cell_type": "code",
      "source": [
        "# http://pytorch.org/\n",
        "from os.path import exists\n",
        "from wheel.pep425tags import get_abbr_impl, get_impl_ver, get_abi_tag\n",
        "platform = '{}{}-{}'.format(get_abbr_impl(), get_impl_ver(), get_abi_tag())\n",
        "cuda_output = !ldconfig -p|grep cudart.so|sed -e 's/.*\\.\\([0-9]*\\)\\.\\([0-9]*\\)$/cu\\1\\2/'\n",
        "accelerator = cuda_output[0] if exists('/dev/nvidia0') else 'cpu'\n",
        "!pip install -q http://download.pytorch.org/whl/{accelerator}/torch-0.4.1-{platform}-linux_x86_64.whl torchvision\n",
        " \n",
        "\n",
        "import torch\n",
        "device =  torch.device(\"cuda:0\" if torch.cuda.is_available() else \"cpu\")\n",
        "print(device)"
      ],
      "execution_count": 0,
      "outputs": [
        {
          "output_type": "stream",
          "text": [
            "cuda:0\n"
          ],
          "name": "stdout"
        }
      ]
    },
    {
      "metadata": {
        "colab_type": "text",
        "id": "YtQz-0nk3Xiz"
      },
      "cell_type": "markdown",
      "source": [
        "The above should print \"cuda:0\", otherwise revisit the steps above or come to office hours to get further help."
      ]
    },
    {
      "metadata": {
        "colab_type": "code",
        "id": "L3X7C-Ug3rru",
        "outputId": "1bb9ce4c-a1fd-4b46-9ad9-a0d643e4aea5",
        "colab": {
          "base_uri": "https://localhost:8080/",
          "height": 51
        }
      },
      "cell_type": "code",
      "source": [
        "import numpy as np\n",
        "import torch\n",
        "\n",
        "x = torch.FloatTensor([1,2,3])\n",
        "print(x)\n",
        "x = x.to(device)\n",
        "print(x)"
      ],
      "execution_count": 0,
      "outputs": [
        {
          "output_type": "stream",
          "text": [
            "tensor([1., 2., 3.])\n",
            "tensor([1., 2., 3.], device='cuda:0')\n"
          ],
          "name": "stdout"
        }
      ]
    },
    {
      "metadata": {
        "colab_type": "text",
        "id": "0j6t9cW34uVm"
      },
      "cell_type": "markdown",
      "source": [
        "To send a variable to the GPU (represented by the variable device), simply follow the above. As you can see, after x is sent to the device, it is clearly denoted as a property of the tensor itself.\n",
        "\n",
        "**Using PDB to debug**\n",
        "\n",
        "Although not necessary, PDB can serve as a very powerful debugging tool. For those already familiar with GDB, PDB is a very similar such tool. Below is a faulty function, follow these steps (using PDB) to figure out what the bug is."
      ]
    },
    {
      "metadata": {
        "colab_type": "code",
        "id": "MUqLx68-5b8v",
        "outputId": "52151f6a-e20a-4040-b154-789f08bd937d",
        "colab": {
          "base_uri": "https://localhost:8080/",
          "height": 538
        }
      },
      "cell_type": "code",
      "source": [
        "import pdb\n",
        "\n",
        "## Function should return a^b, e.g. pow(2,3) should return 8.\n",
        "def buggy_pow(a, b):\n",
        "  prod = 1\n",
        "  for i in range(0, b):\n",
        "    prod = a * a\n",
        "  return prod\n",
        "\n",
        "pdb.set_trace()\n",
        "print(buggy_pow(2,3))\n",
        "  "
      ],
      "execution_count": 0,
      "outputs": [
        {
          "output_type": "stream",
          "text": [
            "--Return--\n",
            "> <ipython-input-4-f2c7fcb045ee>(10)<module>()->None\n",
            "-> pdb.set_trace()\n",
            "(Pdb) exit\n"
          ],
          "name": "stdout"
        },
        {
          "output_type": "error",
          "ename": "BdbQuit",
          "evalue": "ignored",
          "traceback": [
            "\u001b[0;31m---------------------------------------------------------------------------\u001b[0m",
            "\u001b[0;31mBdbQuit\u001b[0m                                   Traceback (most recent call last)",
            "\u001b[0;32m<ipython-input-4-f2c7fcb045ee>\u001b[0m in \u001b[0;36m<module>\u001b[0;34m()\u001b[0m\n\u001b[1;32m      8\u001b[0m   \u001b[0;32mreturn\u001b[0m \u001b[0mprod\u001b[0m\u001b[0;34m\u001b[0m\u001b[0;34m\u001b[0m\u001b[0m\n\u001b[1;32m      9\u001b[0m \u001b[0;34m\u001b[0m\u001b[0m\n\u001b[0;32m---> 10\u001b[0;31m \u001b[0mpdb\u001b[0m\u001b[0;34m.\u001b[0m\u001b[0mset_trace\u001b[0m\u001b[0;34m(\u001b[0m\u001b[0;34m)\u001b[0m\u001b[0;34m\u001b[0m\u001b[0;34m\u001b[0m\u001b[0m\n\u001b[0m\u001b[1;32m     11\u001b[0m \u001b[0mprint\u001b[0m\u001b[0;34m(\u001b[0m\u001b[0mbuggy_pow\u001b[0m\u001b[0;34m(\u001b[0m\u001b[0;36m2\u001b[0m\u001b[0;34m,\u001b[0m\u001b[0;36m3\u001b[0m\u001b[0;34m)\u001b[0m\u001b[0;34m)\u001b[0m\u001b[0;34m\u001b[0m\u001b[0;34m\u001b[0m\u001b[0m\n\u001b[1;32m     12\u001b[0m \u001b[0;34m\u001b[0m\u001b[0m\n",
            "\u001b[0;32m/usr/lib/python3.6/bdb.py\u001b[0m in \u001b[0;36mtrace_dispatch\u001b[0;34m(self, frame, event, arg)\u001b[0m\n\u001b[1;32m     53\u001b[0m             \u001b[0;32mreturn\u001b[0m \u001b[0mself\u001b[0m\u001b[0;34m.\u001b[0m\u001b[0mdispatch_call\u001b[0m\u001b[0;34m(\u001b[0m\u001b[0mframe\u001b[0m\u001b[0;34m,\u001b[0m \u001b[0marg\u001b[0m\u001b[0;34m)\u001b[0m\u001b[0;34m\u001b[0m\u001b[0;34m\u001b[0m\u001b[0m\n\u001b[1;32m     54\u001b[0m         \u001b[0;32mif\u001b[0m \u001b[0mevent\u001b[0m \u001b[0;34m==\u001b[0m \u001b[0;34m'return'\u001b[0m\u001b[0;34m:\u001b[0m\u001b[0;34m\u001b[0m\u001b[0;34m\u001b[0m\u001b[0m\n\u001b[0;32m---> 55\u001b[0;31m             \u001b[0;32mreturn\u001b[0m \u001b[0mself\u001b[0m\u001b[0;34m.\u001b[0m\u001b[0mdispatch_return\u001b[0m\u001b[0;34m(\u001b[0m\u001b[0mframe\u001b[0m\u001b[0;34m,\u001b[0m \u001b[0marg\u001b[0m\u001b[0;34m)\u001b[0m\u001b[0;34m\u001b[0m\u001b[0;34m\u001b[0m\u001b[0m\n\u001b[0m\u001b[1;32m     56\u001b[0m         \u001b[0;32mif\u001b[0m \u001b[0mevent\u001b[0m \u001b[0;34m==\u001b[0m \u001b[0;34m'exception'\u001b[0m\u001b[0;34m:\u001b[0m\u001b[0;34m\u001b[0m\u001b[0;34m\u001b[0m\u001b[0m\n\u001b[1;32m     57\u001b[0m             \u001b[0;32mreturn\u001b[0m \u001b[0mself\u001b[0m\u001b[0;34m.\u001b[0m\u001b[0mdispatch_exception\u001b[0m\u001b[0;34m(\u001b[0m\u001b[0mframe\u001b[0m\u001b[0;34m,\u001b[0m \u001b[0marg\u001b[0m\u001b[0;34m)\u001b[0m\u001b[0;34m\u001b[0m\u001b[0;34m\u001b[0m\u001b[0m\n",
            "\u001b[0;32m/usr/lib/python3.6/bdb.py\u001b[0m in \u001b[0;36mdispatch_return\u001b[0;34m(self, frame, arg)\u001b[0m\n\u001b[1;32m     97\u001b[0m             \u001b[0;32mfinally\u001b[0m\u001b[0;34m:\u001b[0m\u001b[0;34m\u001b[0m\u001b[0;34m\u001b[0m\u001b[0m\n\u001b[1;32m     98\u001b[0m                 \u001b[0mself\u001b[0m\u001b[0;34m.\u001b[0m\u001b[0mframe_returning\u001b[0m \u001b[0;34m=\u001b[0m \u001b[0;32mNone\u001b[0m\u001b[0;34m\u001b[0m\u001b[0;34m\u001b[0m\u001b[0m\n\u001b[0;32m---> 99\u001b[0;31m             \u001b[0;32mif\u001b[0m \u001b[0mself\u001b[0m\u001b[0;34m.\u001b[0m\u001b[0mquitting\u001b[0m\u001b[0;34m:\u001b[0m \u001b[0;32mraise\u001b[0m \u001b[0mBdbQuit\u001b[0m\u001b[0;34m\u001b[0m\u001b[0;34m\u001b[0m\u001b[0m\n\u001b[0m\u001b[1;32m    100\u001b[0m             \u001b[0;31m# The user issued a 'next' or 'until' command.\u001b[0m\u001b[0;34m\u001b[0m\u001b[0;34m\u001b[0m\u001b[0;34m\u001b[0m\u001b[0m\n\u001b[1;32m    101\u001b[0m             \u001b[0;32mif\u001b[0m \u001b[0mself\u001b[0m\u001b[0;34m.\u001b[0m\u001b[0mstopframe\u001b[0m \u001b[0;32mis\u001b[0m \u001b[0mframe\u001b[0m \u001b[0;32mand\u001b[0m \u001b[0mself\u001b[0m\u001b[0;34m.\u001b[0m\u001b[0mstoplineno\u001b[0m \u001b[0;34m!=\u001b[0m \u001b[0;34m-\u001b[0m\u001b[0;36m1\u001b[0m\u001b[0;34m:\u001b[0m\u001b[0;34m\u001b[0m\u001b[0;34m\u001b[0m\u001b[0m\n",
            "\u001b[0;31mBdbQuit\u001b[0m: "
          ]
        }
      ]
    },
    {
      "metadata": {
        "colab_type": "text",
        "id": "Fy-G748u7Czk"
      },
      "cell_type": "markdown",
      "source": [
        "To start a PDB session, simply use the function \"pdb.set_trace()\".\n",
        "\n",
        "Type the following commands (in this order) to debug the function:\n",
        "*   b 7 (sets breakpoint)\n",
        "*   c (continues until breakpoint)\n",
        "*   p prod (prints proceeding variable)\n",
        "*   c\n",
        "*   p prod\n",
        "*   c\n",
        "*   p prod\n",
        "*   exit\n",
        "\n",
        "**Q1**: Do you notice anything about the variable prod? In your writeup (using the template we provided), detail your findings as well as the fix to the above function to get credit for this section.\n",
        "\n",
        "Once you've exited the program, hover over the icon in the top left of the output (should turn into an X), and click it to clear the output."
      ]
    },
    {
      "metadata": {
        "id": "htpmwuNhBhjI",
        "colab_type": "text"
      },
      "cell_type": "markdown",
      "source": [
        "## Answer\n",
        "\n",
        "The bug is that prod should multiply itself with a for each time except for the first time. "
      ]
    },
    {
      "metadata": {
        "colab_type": "text",
        "id": "CyspZGMcnZMi"
      },
      "cell_type": "markdown",
      "source": [
        "\n",
        "\n",
        "---\n",
        "\n",
        "\n",
        "# Classical Machine Learning Review (55 pts)\n",
        "This section will serve as a refresher for concepts you have learned in previous machine learning classes. In this section, you will be working with the IRIS dataset, which contains key properties about different species of irises.\n",
        "\n",
        "Using classical machine learning techniques you will classify which iris each data sample belongs to."
      ]
    },
    {
      "metadata": {
        "colab_type": "text",
        "id": "LTGy3REOBAaO"
      },
      "cell_type": "markdown",
      "source": [
        "## Installing Dependencies (0 pts)\n",
        "\n",
        "Determine what dependencies you need to use and instantiate them in this code snippet as you go. If you are hesitant about including a package, please post on Piazza."
      ]
    },
    {
      "metadata": {
        "colab_type": "code",
        "id": "MthDm7gLpJ0v",
        "colab": {}
      },
      "cell_type": "code",
      "source": [
        "import sklearn\n",
        "import numpy as np"
      ],
      "execution_count": 0,
      "outputs": []
    },
    {
      "metadata": {
        "colab_type": "text",
        "id": "P1DumkZYoDBd"
      },
      "cell_type": "markdown",
      "source": [
        "## Exploratory Data Analysis (30 pts)\n",
        "\n",
        "In this section you will explore the dataset before you actually build the models to train.\n",
        "\n",
        "**Load data**\n",
        "\n",
        "Figure out how to use sklearn to load the iris dataset (Google is encouraged)\n",
        "\n",
        "Answer the following questions in your writeup:\n",
        "\n",
        "**Q2 (3 pts):** How many different types of irises are in the dataset?\n",
        "\n",
        "**Answer:** 3 different types of irises are in the dataset.\n",
        "\n",
        "**Q3 (3 pts):** What are all the features given in the dataset?\n",
        "\n",
        "**Answer:**  4 features are given in the dataset, including sepal length, sepal width, petal width and petal width."
      ]
    },
    {
      "metadata": {
        "colab_type": "code",
        "id": "SFcaqRLXWCNh",
        "colab": {}
      },
      "cell_type": "code",
      "source": [
        "from sklearn import datasets\n",
        "pdb.set_trace()\n",
        "\n",
        "iris = datasets.load_iris()\n",
        "X = iris.data\n",
        "y = iris.target"
      ],
      "execution_count": 0,
      "outputs": []
    },
    {
      "metadata": {
        "colab_type": "text",
        "id": "JWPtBlBdWc29"
      },
      "cell_type": "markdown",
      "source": [
        "**Visualizing the Data**\n",
        "\n",
        "Use Matplotlib to plot the samples with the sepal width, petal length, and petal width serving as the x,y,z dimensions respectively. \n",
        "Color each class a different color. Be sure to include a title, label each axis and include a legend.\n",
        "\n",
        "**Q4a (10 pts):** Include the plot in the writeup\n",
        "\n",
        "**Q4b (4 pts):** What observations can you make about the plot?\n",
        "**Answer:** The points of same kind of iris tend to cluster together."
      ]
    },
    {
      "metadata": {
        "colab_type": "code",
        "id": "ZbxxOVQfsVIg",
        "outputId": "f0807e18-2eef-4e96-adfd-1b0e11bf5cc0",
        "colab": {
          "base_uri": "https://localhost:8080/",
          "height": 545
        }
      },
      "cell_type": "code",
      "source": [
        "import matplotlib.pyplot as plt\n",
        "from mpl_toolkits.mplot3d import Axes3D\n",
        "\n",
        "fig = plt.figure()\n",
        "ax = fig.add_subplot(111, projection='3d')\n",
        "\n",
        "for c,idx in [('r',0),('g',1),('b',2)]:\n",
        "  xs = X[y==idx,0]\n",
        "  ys = X[y==idx,1]\n",
        "  zs = X[y==idx,2]\n",
        "  ax.scatter(xs, ys, zs, c=c)\n",
        "  \n",
        "ax.set_xlabel('sepal width')\n",
        "ax.set_ylabel('petal length')\n",
        "ax.set_zlabel('petal width')\n",
        "plt.show()"
      ],
      "execution_count": 0,
      "outputs": [
        {
          "output_type": "error",
          "ename": "NameError",
          "evalue": "ignored",
          "traceback": [
            "\u001b[0;31m---------------------------------------------------------------------------\u001b[0m",
            "\u001b[0;31mNameError\u001b[0m                                 Traceback (most recent call last)",
            "\u001b[0;32m<ipython-input-1-558b456ee767>\u001b[0m in \u001b[0;36m<module>\u001b[0;34m()\u001b[0m\n\u001b[1;32m      6\u001b[0m \u001b[0;34m\u001b[0m\u001b[0m\n\u001b[1;32m      7\u001b[0m \u001b[0;32mfor\u001b[0m \u001b[0mc\u001b[0m\u001b[0;34m,\u001b[0m\u001b[0midx\u001b[0m \u001b[0;32min\u001b[0m \u001b[0;34m[\u001b[0m\u001b[0;34m(\u001b[0m\u001b[0;34m'r'\u001b[0m\u001b[0;34m,\u001b[0m\u001b[0;36m0\u001b[0m\u001b[0;34m)\u001b[0m\u001b[0;34m,\u001b[0m\u001b[0;34m(\u001b[0m\u001b[0;34m'g'\u001b[0m\u001b[0;34m,\u001b[0m\u001b[0;36m1\u001b[0m\u001b[0;34m)\u001b[0m\u001b[0;34m,\u001b[0m\u001b[0;34m(\u001b[0m\u001b[0;34m'b'\u001b[0m\u001b[0;34m,\u001b[0m\u001b[0;36m2\u001b[0m\u001b[0;34m)\u001b[0m\u001b[0;34m]\u001b[0m\u001b[0;34m:\u001b[0m\u001b[0;34m\u001b[0m\u001b[0;34m\u001b[0m\u001b[0m\n\u001b[0;32m----> 8\u001b[0;31m   \u001b[0mxs\u001b[0m \u001b[0;34m=\u001b[0m \u001b[0mX\u001b[0m\u001b[0;34m[\u001b[0m\u001b[0my\u001b[0m\u001b[0;34m==\u001b[0m\u001b[0midx\u001b[0m\u001b[0;34m,\u001b[0m\u001b[0;36m0\u001b[0m\u001b[0;34m]\u001b[0m\u001b[0;34m\u001b[0m\u001b[0;34m\u001b[0m\u001b[0m\n\u001b[0m\u001b[1;32m      9\u001b[0m   \u001b[0mys\u001b[0m \u001b[0;34m=\u001b[0m \u001b[0mX\u001b[0m\u001b[0;34m[\u001b[0m\u001b[0my\u001b[0m\u001b[0;34m==\u001b[0m\u001b[0midx\u001b[0m\u001b[0;34m,\u001b[0m\u001b[0;36m1\u001b[0m\u001b[0;34m]\u001b[0m\u001b[0;34m\u001b[0m\u001b[0;34m\u001b[0m\u001b[0m\n\u001b[1;32m     10\u001b[0m   \u001b[0mzs\u001b[0m \u001b[0;34m=\u001b[0m \u001b[0mX\u001b[0m\u001b[0;34m[\u001b[0m\u001b[0my\u001b[0m\u001b[0;34m==\u001b[0m\u001b[0midx\u001b[0m\u001b[0;34m,\u001b[0m\u001b[0;36m2\u001b[0m\u001b[0;34m]\u001b[0m\u001b[0;34m\u001b[0m\u001b[0;34m\u001b[0m\u001b[0m\n",
            "\u001b[0;31mNameError\u001b[0m: name 'X' is not defined"
          ]
        },
        {
          "output_type": "display_data",
          "data": {
            "image/png": "[encoded data removed]",
            "text/plain": [
              "<Figure size 576x396 with 1 Axes>"
            ]
          },
          "metadata": {
            "tags": []
          }
        }
      ]
    },
    {
      "metadata": {
        "colab_type": "text",
        "id": "lyOZFO5BYj9X"
      },
      "cell_type": "markdown",
      "source": [
        "**Analyzing the Data**\n",
        "\n",
        "For each type of plant in the train set, use Panda and NumPy to compute the mean of each of the features, and report what these \n",
        "means are in a table. For those not familiar with numpy and/or panda, here are a few helpful resources to get introduced:'\n",
        "\n",
        "*   https://machinelearningmastery.com/introduction-to-tensors-for-machine-learning/ \n",
        "*   https://github.com/rougier/numpy-tutorial\n",
        "\n",
        "\n",
        "**Q5a (7 pts):** Include the final table in the writeup.\n",
        "\n",
        "**Q5b (3 pts):** What observations can you make about the reported means?\n",
        "\n",
        "\n"
      ]
    },
    {
      "metadata": {
        "colab_type": "code",
        "id": "ef-72wfWxkCq",
        "outputId": "f62c367f-5cac-4318-f20a-88538db18f15",
        "colab": {
          "base_uri": "https://localhost:8080/",
          "height": 34
        }
      },
      "cell_type": "code",
      "source": [
        "mean_sepal_l = np.mean(X,axis=1)[0]\n",
        "mean_sepal_w = np.mean(X,axis=1)[1]\n",
        "mean_petal_l = np.mean(X,axis=1)[2]\n",
        "mean_petal_w = np.mean(X,axis=1)[3]\n",
        "\n",
        "print(mean_sepal_l, mean_sepal_w, mean_petal_l, mean_petal_w)"
      ],
      "execution_count": 0,
      "outputs": [
        {
          "output_type": "stream",
          "text": [
            "2.55 2.375 2.35 2.3499999999999996\n"
          ],
          "name": "stdout"
        }
      ]
    },
    {
      "metadata": {
        "colab_type": "text",
        "id": "JTnK1AhPZvto"
      },
      "cell_type": "markdown",
      "source": [
        "**Splitting Dataset**\n",
        "\n",
        "Use sklearn to do a 60-20-20 split of the dataset into train, evaluation and test sets. \n",
        "\n"
      ]
    },
    {
      "metadata": {
        "colab_type": "code",
        "id": "svdanXDqvdF-",
        "colab": {}
      },
      "cell_type": "code",
      "source": [
        "from sklearn.model_selection import train_test_split\n",
        "X_train, X_test, y_train, y_test = train_test_split(X, y, test_size=0.2, random_state=1)\n",
        "X_train, X_val, y_train, y_val = train_test_split(X_train, y_train, test_size=0.2, random_state=1)"
      ],
      "execution_count": 0,
      "outputs": []
    },
    {
      "metadata": {
        "colab_type": "text",
        "id": "-2cv6AgspAP3"
      },
      "cell_type": "markdown",
      "source": [
        "## Building Models (25 pts)"
      ]
    },
    {
      "metadata": {
        "colab_type": "text",
        "id": "dl6-ppKpp3aN"
      },
      "cell_type": "markdown",
      "source": [
        "**Models - KNN**\n",
        "\n",
        "Use sklearn's built in KNN method to classify samples. \n",
        "\n",
        "**Q6a (5pts):** Report the final test / train accuracy."
      ]
    },
    {
      "metadata": {
        "colab_type": "code",
        "id": "tRL7QVcP0TD7",
        "outputId": "f7d3582b-0137-4019-b07a-41ef6020155f",
        "colab": {
          "base_uri": "https://localhost:8080/",
          "height": 34
        }
      },
      "cell_type": "code",
      "source": [
        "from sklearn.neighbors import KNeighborsClassifier\n",
        "\n",
        "neigh = KNeighborsClassifier(n_neighbors=3)\n",
        "neigh.fit(X_train, y_train)\n",
        "\n",
        "y_pred = neigh.predict(X_test)\n",
        "test_accuracy = np.mean(y_test == y_pred)\n",
        "print(test_accuracy)"
      ],
      "execution_count": 0,
      "outputs": [
        {
          "output_type": "stream",
          "text": [
            "1.0\n"
          ],
          "name": "stdout"
        }
      ]
    },
    {
      "metadata": {
        "colab_type": "text",
        "id": "gDElCA8UoQdA"
      },
      "cell_type": "markdown",
      "source": [
        "**Models - Logistic Regression**\n",
        "\n",
        "Now use logistic regression instead, also plotting accuracy over iterations.\n",
        "\n",
        "**Q6b (5 pts):** Report the final test / train accuracy"
      ]
    },
    {
      "metadata": {
        "colab_type": "code",
        "id": "BoFhtZSw2dxV",
        "outputId": "94354631-7386-492d-bf75-f7777aa66e08",
        "colab": {
          "base_uri": "https://localhost:8080/",
          "height": 452
        }
      },
      "cell_type": "code",
      "source": [
        "from sklearn.linear_model import LogisticRegression\n",
        "from sklearn.model_selection import learning_curve\n",
        "\n",
        "clf = LogisticRegression(random_state=0, solver='lbfgs', multi_class='multinomial')\n",
        "train_sizes, train_scores, test_scores = learning_curve(clf, X_train, y_train)\n",
        "\n",
        "train_scores_mean = np.mean(train_scores, axis=1)\n",
        "train_scores_std = np.std(train_scores, axis=1)\n",
        "test_scores_mean = np.mean(test_scores, axis=1)\n",
        "test_scores_std = np.std(test_scores, axis=1)\n",
        "\n",
        "plt.plot(train_sizes, train_scores_mean, 'o-', color=\"r\",\n",
        "             label=\"Training score\")\n",
        "plt.plot(train_sizes, test_scores_mean, 'o-', color=\"g\",\n",
        "             label=\"Test score\")"
      ],
      "execution_count": 0,
      "outputs": [
        {
          "output_type": "stream",
          "text": [
            "/usr/local/lib/python3.6/dist-packages/sklearn/model_selection/_split.py:2053: FutureWarning: You should specify a value for 'cv' instead of relying on the default value. The default value will change from 3 to 5 in version 0.22.\n",
            "  warnings.warn(CV_WARNING, FutureWarning)\n",
            "/usr/local/lib/python3.6/dist-packages/sklearn/linear_model/logistic.py:758: ConvergenceWarning: lbfgs failed to converge. Increase the number of iterations.\n",
            "  \"of iterations.\", ConvergenceWarning)\n"
          ],
          "name": "stderr"
        },
        {
          "output_type": "execute_result",
          "data": {
            "text/plain": [
              "[<matplotlib.lines.Line2D at 0x7fa0b778fac8>]"
            ]
          },
          "metadata": {
            "tags": []
          },
          "execution_count": 38
        },
        {
          "output_type": "display_data",
          "data": {
            "image/png": "[encoded data removed]",
            "text/plain": [
              "<Figure size 576x396 with 1 Axes>"
            ]
          },
          "metadata": {
            "tags": []
          }
        }
      ]
    },
    {
      "metadata": {
        "colab_type": "text",
        "id": "BSz88OWvoRaP"
      },
      "cell_type": "markdown",
      "source": [
        "**Models - Decision Tree**\n",
        "\n",
        "Finally, use decision trees and plot accuracy over iterations.\n",
        "\n",
        "**Q6c (5 pts):** Report the final test / train accuracy"
      ]
    },
    {
      "metadata": {
        "colab_type": "code",
        "id": "NzR_Rnyc3jgU",
        "outputId": "43fefe2f-2cfe-4984-eef0-4ec8ee1e4cfc",
        "colab": {
          "base_uri": "https://localhost:8080/",
          "height": 418
        }
      },
      "cell_type": "code",
      "source": [
        "from sklearn.tree import DecisionTreeClassifier\n",
        "\n",
        "clf = DecisionTreeClassifier(random_state=0)\n",
        "train_sizes, train_scores, test_scores = learning_curve(clf, X_train, y_train)\n",
        "\n",
        "train_scores_mean = np.mean(train_scores, axis=1)\n",
        "train_scores_std = np.std(train_scores, axis=1)\n",
        "test_scores_mean = np.mean(test_scores, axis=1)\n",
        "test_scores_std = np.std(test_scores, axis=1)\n",
        "\n",
        "plt.plot(train_sizes, train_scores_mean, 'o-', color=\"r\",\n",
        "             label=\"Training score\")\n",
        "plt.plot(train_sizes, test_scores_mean, 'o-', color=\"g\",\n",
        "             label=\"Test score\")"
      ],
      "execution_count": 0,
      "outputs": [
        {
          "output_type": "stream",
          "text": [
            "/usr/local/lib/python3.6/dist-packages/sklearn/model_selection/_split.py:2053: FutureWarning: You should specify a value for 'cv' instead of relying on the default value. The default value will change from 3 to 5 in version 0.22.\n",
            "  warnings.warn(CV_WARNING, FutureWarning)\n"
          ],
          "name": "stderr"
        },
        {
          "output_type": "execute_result",
          "data": {
            "text/plain": [
              "[<matplotlib.lines.Line2D at 0x7fa0b76b10b8>]"
            ]
          },
          "metadata": {
            "tags": []
          },
          "execution_count": 39
        },
        {
          "output_type": "display_data",
          "data": {
            "image/png": "[encoded data removed]",
            "text/plain": [
              "<Figure size 576x396 with 1 Axes>"
            ]
          },
          "metadata": {
            "tags": []
          }
        }
      ]
    },
    {
      "metadata": {
        "colab_type": "text",
        "id": "iUfHVZnWrNmG"
      },
      "cell_type": "markdown",
      "source": [
        "**Model Evaluation**\n",
        "\n",
        "**Q6d (10 pts):** Now that you've used three different classical ML techniques for classifying the samples, which one performs the best? Based on your observations of the dataset, why do you think this one performs the best and the other ones perform poorly?"
      ]
    }
  ]
}